{
 "cells": [
  {
   "cell_type": "code",
   "execution_count": 43,
   "metadata": {},
   "outputs": [],
   "source": [
    "import pandas as pd\n",
    "import numpy as np\n",
    "import matplotlib.pyplot as plt\n",
    "import tensorflow as tf"
   ]
  },
  {
   "attachments": {},
   "cell_type": "markdown",
   "metadata": {},
   "source": [
    "# Import Data"
   ]
  },
  {
   "cell_type": "code",
   "execution_count": 44,
   "metadata": {},
   "outputs": [
    {
     "name": "stdout",
     "output_type": "stream",
     "text": [
      "Train shape : (42000, 785)\n",
      "Test shape  : (42000, 785)\n"
     ]
    }
   ],
   "source": [
    "# Create df's from csv files\n",
    "train_df = pd.read_csv('data/train.csv')\n",
    "test_df = pd.read_csv('data/test.csv')\n",
    "# Check size (Train df has one additional column which is label)\n",
    "print(f'Train shape : {train_df.shape}')\n",
    "print(f'Test shape  : {train_df.shape}')"
   ]
  },
  {
   "attachments": {},
   "cell_type": "markdown",
   "metadata": {},
   "source": [
    "# Splitting training df"
   ]
  },
  {
   "cell_type": "code",
   "execution_count": 45,
   "metadata": {},
   "outputs": [],
   "source": [
    "from sklearn.model_selection import train_test_split"
   ]
  },
  {
   "cell_type": "code",
   "execution_count": 46,
   "metadata": {},
   "outputs": [
    {
     "name": "stdout",
     "output_type": "stream",
     "text": [
      "Train features shape : (33600, 784)\n",
      "Train labels shape  : (33600,)\n",
      "Validation features shape : (8400, 784)\n",
      "Validation labels shape  : (8400,)\n"
     ]
    }
   ],
   "source": [
    "# Split the data into training and validation sets\n",
    "# The features for training are all columns starting from the second column\n",
    "# The target variable is the 'label' column\n",
    "X_train, X_val, y_train, y_val = train_test_split(train_df.iloc[:, 1:], train_df['label'], test_size=0.2, random_state=42)\n",
    "\n",
    "# Print the shapes of the training and validation sets\n",
    "print(f'Train features shape : {X_train.shape}')\n",
    "print(f'Train labels shape  : {y_train.shape}')\n",
    "print(f'Validation features shape : {X_val.shape}')\n",
    "print(f'Validation labels shape  : {y_val.shape}')\n"
   ]
  },
  {
   "attachments": {},
   "cell_type": "markdown",
   "metadata": {},
   "source": [
    "# Normalization"
   ]
  },
  {
   "cell_type": "code",
   "execution_count": 47,
   "metadata": {},
   "outputs": [],
   "source": [
    "# Divide each element by 255 to normalize the pixel values to a range between 0 and 1\n",
    "X_train = X_train/255\n",
    "X_val = X_val/255\n",
    "test_df = test_df/255"
   ]
  },
  {
   "attachments": {},
   "cell_type": "markdown",
   "metadata": {},
   "source": [
    "# One-Hot Encoding"
   ]
  },
  {
   "cell_type": "code",
   "execution_count": 48,
   "metadata": {},
   "outputs": [],
   "source": [
    "from keras.utils import to_categorical"
   ]
  },
  {
   "cell_type": "code",
   "execution_count": 49,
   "metadata": {},
   "outputs": [],
   "source": [
    "y_train = to_categorical(y_train)\n",
    "y_val = to_categorical(y_val)"
   ]
  },
  {
   "attachments": {},
   "cell_type": "markdown",
   "metadata": {},
   "source": [
    "# Reshaping"
   ]
  },
  {
   "cell_type": "code",
   "execution_count": 50,
   "metadata": {},
   "outputs": [
    {
     "name": "stdout",
     "output_type": "stream",
     "text": [
      "Train features shape : (33600, 28, 28, 1)\n",
      "Train labels shape  : (33600, 10)\n",
      "Validation features shape : (8400, 28, 28, 1)\n",
      "Validation labels shape  : (8400, 10)\n",
      "Test features shape : (28000, 28, 28, 1)\n"
     ]
    }
   ],
   "source": [
    "# The reshaping is performed to match the input shape requirements of Convolutional Neural Networks (CNNs)\n",
    "X_train = X_train.to_numpy().reshape(-1,28,28,1)\n",
    "X_val = X_val.to_numpy().reshape(-1,28,28,1)\n",
    "test_df = test_df.to_numpy().reshape(-1,28,28,1)\n",
    "# Print the shapes of the training and validation sets\n",
    "print(f'Train features shape : {X_train.shape}')\n",
    "print(f'Train labels shape  : {y_train.shape}')\n",
    "print(f'Validation features shape : {X_val.shape}')\n",
    "print(f'Validation labels shape  : {y_val.shape}')\n",
    "print(f'Test features shape : {test_df.shape}')\n"
   ]
  },
  {
   "attachments": {},
   "cell_type": "markdown",
   "metadata": {},
   "source": [
    "# Model"
   ]
  },
  {
   "cell_type": "code",
   "execution_count": 51,
   "metadata": {},
   "outputs": [],
   "source": [
    "from tensorflow.keras.models import Sequential\n",
    "from tensorflow.keras.layers import Conv2D, MaxPooling2D, Flatten, Dense, Dropout"
   ]
  },
  {
   "cell_type": "code",
   "execution_count": 52,
   "metadata": {},
   "outputs": [],
   "source": [
    "model = Sequential()\n",
    "# First Convolutional layer with 32 filters, each with a 3x3 kernel and ReLU activation\n",
    "model.add(Conv2D(32, kernel_size=(3, 3), activation='relu', input_shape=(28, 28, 1)))\n",
    "# Second Convolutional layer with 64 filters, each with a 3x3 kernel and ReLU activation\n",
    "model.add(Conv2D(64, kernel_size=(3, 3), activation='relu'))\n",
    "# MaxPooling layer with a pool size of 2x2\n",
    "model.add(MaxPooling2D(pool_size=(2, 2)))\n",
    "# Dropout layer with a rate of 0.25\n",
    "model.add(Dropout(0.25))\n",
    "# Third Convolutional layer with 128 filters, each with a 3x3 kernel and ReLU activation\n",
    "model.add(Conv2D(128, kernel_size=(3, 3), activation='relu'))\n",
    "# Another MaxPooling layer with a pool size of 2x2\n",
    "model.add(MaxPooling2D(pool_size=(2, 2)))\n",
    "# Another Dropout layer with a rate of 0.25\n",
    "model.add(Dropout(0.25))\n",
    "# Flatten layer to convert the 2D feature maps into a 1D feature vector\n",
    "model.add(Flatten())\n",
    "# Fully connected Dense layer with 256 units and ReLU activation\n",
    "model.add(Dense(256, activation='relu'))\n",
    "# Dropout layer with a rate of 0.5\n",
    "model.add(Dropout(0.5))\n",
    "# Output Dense layer with 10 units (for 10 classes) and softmax activation\n",
    "model.add(Dense(10, activation='softmax'))\n"
   ]
  },
  {
   "attachments": {},
   "cell_type": "markdown",
   "metadata": {},
   "source": [
    "# Data Augmentation"
   ]
  },
  {
   "cell_type": "code",
   "execution_count": 53,
   "metadata": {},
   "outputs": [],
   "source": [
    "from tensorflow.keras.preprocessing.image import ImageDataGenerator"
   ]
  },
  {
   "cell_type": "code",
   "execution_count": 54,
   "metadata": {},
   "outputs": [],
   "source": [
    "datagen = ImageDataGenerator(rotation_range=10, width_shift_range=0.1, height_shift_range=0.1, shear_range=0.1, zoom_range=0.1, fill_mode='nearest')\n",
    "datagen.fit(X_train)"
   ]
  },
  {
   "attachments": {},
   "cell_type": "markdown",
   "metadata": {},
   "source": [
    "# Model Compilation"
   ]
  },
  {
   "cell_type": "code",
   "execution_count": 55,
   "metadata": {},
   "outputs": [],
   "source": [
    "model.compile(optimizer='adam', loss='categorical_crossentropy', metrics=['accuracy'])"
   ]
  },
  {
   "attachments": {},
   "cell_type": "markdown",
   "metadata": {},
   "source": [
    "# Model Training"
   ]
  },
  {
   "cell_type": "code",
   "execution_count": 56,
   "metadata": {},
   "outputs": [
    {
     "name": "stderr",
     "output_type": "stream",
     "text": [
      "2023-06-26 18:30:10.121132: I tensorflow/core/common_runtime/executor.cc:1197] [/device:CPU:0] (DEBUG INFO) Executor start aborting (this does not indicate an error and you can ignore this message): INVALID_ARGUMENT: You must feed a value for placeholder tensor 'Placeholder/_0' with dtype int32\n",
      "\t [[{{node Placeholder/_0}}]]\n"
     ]
    }
   ],
   "source": [
    "history = model.fit(datagen.flow(X_train, y_train, batch_size=128), epochs=3, validation_data=(\n",
    "    X_val, y_val), verbose=0, steps_per_epoch=X_train.shape[0] // 128)\n"
   ]
  },
  {
   "attachments": {},
   "cell_type": "markdown",
   "metadata": {},
   "source": [
    "# Evaluation"
   ]
  },
  {
   "cell_type": "code",
   "execution_count": 57,
   "metadata": {},
   "outputs": [
    {
     "name": "stdout",
     "output_type": "stream",
     "text": [
      "263/263 [==============================] - 4s 15ms/step - loss: 0.0401 - accuracy: 0.9865\n",
      "Validation loss: 0.0401\n",
      "Validation accuracy: 0.9865\n"
     ]
    }
   ],
   "source": [
    "loss, accuracy = model.evaluate(X_val, y_val)\n",
    "print(f'Validation loss: {loss:.4f}')\n",
    "print(f'Validation accuracy: {accuracy:.4f}')"
   ]
  },
  {
   "attachments": {},
   "cell_type": "markdown",
   "metadata": {},
   "source": [
    "# Prediction"
   ]
  },
  {
   "cell_type": "code",
   "execution_count": 58,
   "metadata": {},
   "outputs": [
    {
     "name": "stdout",
     "output_type": "stream",
     "text": [
      "875/875 [==============================] - 12s 14ms/step\n"
     ]
    },
    {
     "data": {
      "text/plain": [
       "array([2, 0, 9, ..., 3, 9, 2])"
      ]
     },
     "execution_count": 58,
     "metadata": {},
     "output_type": "execute_result"
    }
   ],
   "source": [
    "predictions = model.predict(test_df)\n",
    "predictions = np.argmax(predictions, axis=1)\n",
    "predictions"
   ]
  },
  {
   "attachments": {},
   "cell_type": "markdown",
   "metadata": {},
   "source": [
    "# Verification"
   ]
  },
  {
   "cell_type": "code",
   "execution_count": 59,
   "metadata": {},
   "outputs": [
    {
     "data": {
      "image/png": "[encoded data removed]",
      "text/plain": [
       "<Figure size 640x480 with 1 Axes>"
      ]
     },
     "metadata": {},
     "output_type": "display_data"
    },
    {
     "data": {
      "image/png": "[encoded data removed]",
      "text/plain": [
       "<Figure size 640x480 with 1 Axes>"
      ]
     },
     "metadata": {},
     "output_type": "display_data"
    },
    {
     "data": {
      "image/png": "[encoded data removed]",
      "text/plain": [
       "<Figure size 640x480 with 1 Axes>"
      ]
     },
     "metadata": {},
     "output_type": "display_data"
    }
   ],
   "source": [
    "# Display 3 first images from test_df to check model accuracy\n",
    "data = pd.read_csv('data/test.csv')\n",
    "for i in range(3):\n",
    "    # Get pixel values\n",
    "    pixels = data.values[i]\n",
    "\n",
    "    # Reshape pixel values into a 2D array\n",
    "    image = np.reshape(pixels, (28, 28))\n",
    "\n",
    "    # Display the image\n",
    "    plt.imshow(image, cmap='gray')\n",
    "    plt.axis('off')\n",
    "    plt.show()"
   ]
  }
 ],
 "metadata": {
  "kernelspec": {
   "display_name": "env",
   "language": "python",
   "name": "python3"
  },
  "language_info": {
   "codemirror_mode": {
    "name": "ipython",
    "version": 3
   },
   "file_extension": ".py",
   "mimetype": "text/x-python",
   "name": "python",
   "nbconvert_exporter": "python",
   "pygments_lexer": "ipython3",
   "version": "3.10.10"
  },
  "orig_nbformat": 4
 },
 "nbformat": 4,
 "nbformat_minor": 2
}
